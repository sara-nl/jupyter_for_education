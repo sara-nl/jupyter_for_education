{
 "cells": [
  {
   "cell_type": "markdown",
   "id": "ce62e872",
   "metadata": {},
   "source": [
    "## Capturing an image from a webcam\n",
    "\n",
    "In your course, you might want to have students use their own webcam. As an example, if you are teaching object detection methods, it may be nice if students can experiment with this on frames that they captured themselves.\n",
    "\n",
    "In principle, all of the python code in a Jupyter Notebook is executed on the so-called 'server side'. I.e. that means it runs on one of the servers from SURF. That is convenient for many things (for example it allows all your students to use exactly the same software environment), but it is a challenge if you want to use local resources such as a webcam.\n",
    "\n",
    "The way in which this can be achieved is by executing Javascript code. Javascript code can be executed on the 'client side', in the browser. That is: it is executed by the browser on the laptop or deskop of the student/teacher. There is one downside to this: browsers may differ, and Javascript code might not work equally well in all browsers. The following code has been tested on Google Chrome, version 107.0.5304.107."
   ]
  },
  {
   "cell_type": "markdown",
   "id": "f034b285",
   "metadata": {},
   "source": [
    "First, some imports"
   ]
  },
  {
   "cell_type": "code",
   "execution_count": null,
   "id": "26a65884",
   "metadata": {},
   "outputs": [],
   "source": [
    "from IPython.display import display, Javascript, Image\n",
    "from base64 import b64decode"
   ]
  },
  {
   "cell_type": "markdown",
   "id": "7c454a61",
   "metadata": {},
   "source": [
    "Since the javascript code (that we'll define later) will return a base64-encoded image, we specify a function that can save an image to disk based on a base64-encoded image as argument. Note that this function will save the file in the current working directory, on the 'server-side'. That is, the image will be stored on the Jupyter Notebook Server, not on the local laptop/desktop of the end user."
   ]
  },
  {
   "cell_type": "code",
   "execution_count": null,
   "id": "5f5c981d",
   "metadata": {},
   "outputs": [],
   "source": [
    "def save_photo(filename, photo_b64):\n",
    "    print(\"Saving photo: {filename}\".format(filename=filename))\n",
    "    binary = b64decode(photo_b64.split(',')[1])\n",
    "    with open(filename, 'wb') as f:\n",
    "        f.write(binary)\n",
    "    return filename"
   ]
  },
  {
   "cell_type": "markdown",
   "id": "840328b4",
   "metadata": {},
   "source": [
    "Then, we define the function that can capture the image from the webcam. The function 'take_photo' is a python function, that essentially wraps Javascript code and executes that Javascript code. In the javascript code, we call the save_photo() function we defined above, so that the photo is saved after it is captured."
   ]
  },
  {
   "cell_type": "code",
   "execution_count": null,
   "id": "0afb128b",
   "metadata": {},
   "outputs": [],
   "source": [
    "def take_photo(filename='photo.jpg', quality=0.8):\n",
    "    takePhotoJS='''async function takePhoto(filename, quality){\n",
    "      const div = document.createElement('div');\n",
    "      const capture = document.createElement('button');\n",
    "      capture.textContent = 'Capture';\n",
    "      div.appendChild(capture);\n",
    " \n",
    "      const video = document.createElement('video');\n",
    "      video.style.display = 'block';\n",
    "      const stream = await navigator.mediaDevices.getUserMedia({video: true});\n",
    "\n",
    "      document.body.appendChild(div);\n",
    "      div.appendChild(video);\n",
    "      video.srcObject = stream;\n",
    "      await video.play();\n",
    "\n",
    "      await new Promise((resolve) => capture.onclick = resolve);\n",
    "\n",
    "      const canvas = document.createElement('canvas');\n",
    "      canvas.width = video.videoWidth;\n",
    "      canvas.height = video.videoHeight;\n",
    "      canvas.getContext('2d').drawImage(video, 0, 0);\n",
    "      stream.getVideoTracks()[0].stop();\n",
    "      div.remove();\n",
    "      const imageURL = canvas.toDataURL('image/jpeg', quality)\n",
    "      \n",
    "      // Save photo by calling the 'save_photo' python function we defined earlier\n",
    "      var command = \"save_photo('\" + filename+ \"', '\" + imageURL + \"')\"\n",
    "      var kernel = IPython.notebook.kernel;\n",
    "      kernel.execute(command);\n",
    "      \n",
    "      return imageURL;\n",
    "    }'''\n",
    "    callTakePhoto='\\nconst imageURL = takePhoto(\"{filename}\", {quality})'.format(filename=filename, quality = quality)\n",
    "\n",
    "    # This call defines the javascript script we'd like to execute\n",
    "    js = Javascript(takePhotoJS + callTakePhoto)\n",
    "    \n",
    "    # This call executes the javascript script\n",
    "    display(js)\n",
    "    \n",
    "    return filename"
   ]
  },
  {
   "cell_type": "markdown",
   "id": "e04a4d32",
   "metadata": {},
   "source": [
    "Then, we define a small function that can display the photo:"
   ]
  },
  {
   "cell_type": "code",
   "execution_count": null,
   "id": "7cb9e6b8",
   "metadata": {},
   "outputs": [],
   "source": [
    "def show_photo(filename='photo.jpg'):\n",
    "    display(Image(filename))"
   ]
  },
  {
   "cell_type": "markdown",
   "id": "5d5d4bd5",
   "metadata": {},
   "source": [
    "Now, it's time to call the functions we just created. First, we call the function above to take an actual photo with the webcam. Note that this opens a screen (at the bottom of this notebook, so make sure to scroll down all the way!) displaying the webcam video, along with a 'capture' button. Press the capture button to take a photo."
   ]
  },
  {
   "cell_type": "code",
   "execution_count": null,
   "id": "3b65bb77",
   "metadata": {},
   "outputs": [],
   "source": [
    "filename = take_photo()"
   ]
  },
  {
   "cell_type": "markdown",
   "id": "02d416e7",
   "metadata": {},
   "source": [
    "Next, we call the show_photo function, to display the photo"
   ]
  },
  {
   "cell_type": "code",
   "execution_count": null,
   "id": "0aa9f284",
   "metadata": {},
   "outputs": [],
   "source": [
    "show_photo(filename)"
   ]
  },
  {
   "cell_type": "markdown",
   "id": "8203350d",
   "metadata": {},
   "source": [
    "Note that we should not combine the 'take_photo()' and 'show_photo()' functions in the same codeblock: the take_photo function is a so-called 'asynchronous' function. It will return immediately, even if it has not completed yet. That means that if we were to combine the two functions in the same codeblock, the 'show_photo()' function would be called before you would have had a chance to press the 'capture' button (and thus before the photo would have been saved to disk). This will cause a file-not-found error (because the file has not been created yet), or will cause previously captured photo to be displayed."
   ]
  }
 ],
 "metadata": {
  "kernelspec": {
   "display_name": "Python 3 (ipykernel)",
   "language": "python",
   "name": "python3"
  },
  "language_info": {
   "codemirror_mode": {
    "name": "ipython",
    "version": 3
   },
   "file_extension": ".py",
   "mimetype": "text/x-python",
   "name": "python",
   "nbconvert_exporter": "python",
   "pygments_lexer": "ipython3",
   "version": "3.9.5"
  }
 },
 "nbformat": 4,
 "nbformat_minor": 5
}
