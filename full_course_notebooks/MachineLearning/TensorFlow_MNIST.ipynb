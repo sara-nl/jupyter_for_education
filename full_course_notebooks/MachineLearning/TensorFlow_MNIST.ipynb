{
 "cells": [
  {
   "cell_type": "markdown",
   "id": "e8143f6f",
   "metadata": {},
   "source": [
    "### A very compact example of training ResNet50 on MNIST using TensorFlow2"
   ]
  },
  {
   "cell_type": "markdown",
   "id": "a3e85485",
   "metadata": {},
   "source": [
    "Note that TensorFlow2 takes quite a long time to initialize. It may seem like the notebook stalled, but be prepared to wait for up to a minute or so for it to start printing output."
   ]
  },
  {
   "cell_type": "code",
   "execution_count": 3,
   "id": "988dfcf0",
   "metadata": {},
   "outputs": [
    {
     "name": "stdout",
     "output_type": "stream",
     "text": [
      "Model: ResNet50\n",
      "Batch size: 8\n",
      "Running warmup...\n",
      "Running benchmark...\n",
      "Iter #0: 4.5 img/sec per CPU\n",
      "Iter #1: 4.6 img/sec per CPU\n",
      "Iter #2: 4.6 img/sec per CPU\n",
      "Img/sec per CPU: 4.6 +-0.1\n"
     ]
    }
   ],
   "source": [
    "# Test of Tensorflow2 training on MNIST\n",
    "\n",
    "import argparse\n",
    "import os\n",
    "import numpy as np\n",
    "import timeit\n",
    "\n",
    "import tensorflow as tf\n",
    "from tensorflow.keras import applications\n",
    "\n",
    "batch_size=8\n",
    "num_batches_per_iter=3\n",
    "num_iters=3\n",
    "warmup_iters=2\n",
    "\n",
    "gpus = tf.config.experimental.list_physical_devices('GPU')\n",
    "for gpu in gpus:\n",
    "    tf.config.experimental.set_memory_growth(gpu, True)\n",
    "\n",
    "os.environ[\"CUDA_VISIBLE_DEVICES\"] = \"-1\"\n",
    "\n",
    "# Set up standard model.\n",
    "model = getattr(applications, 'ResNet50')(weights=None)\n",
    "opt = tf.optimizers.SGD(0.01)\n",
    "\n",
    "data = tf.random.uniform([batch_size, 224, 224, 3])\n",
    "target = tf.random.uniform([batch_size, 1], minval=0, maxval=999, dtype=tf.int64)\n",
    "\n",
    "\n",
    "@tf.function\n",
    "def benchmark_step(first_batch):\n",
    "\n",
    "    # Horovod: use DistributedGradientTape\n",
    "    with tf.GradientTape() as tape:\n",
    "        probs = model(data, training=True)\n",
    "        loss = tf.losses.sparse_categorical_crossentropy(target, probs)\n",
    "\n",
    "    gradients = tape.gradient(loss, model.trainable_variables)\n",
    "    opt.apply_gradients(zip(gradients, model.trainable_variables))\n",
    "\n",
    "def log(s, nl=True):\n",
    "    print(s, end='\\n' if nl else '')\n",
    "\n",
    "\n",
    "log('Model: %s' % 'ResNet50')\n",
    "log('Batch size: %d' % batch_size)\n",
    "device = 'GPU' if len(gpus) > 0 else 'CPU'\n",
    "\n",
    "with tf.device(device):\n",
    "    # Warm-up\n",
    "    log('Running warmup...')\n",
    "    benchmark_step(first_batch=True)\n",
    "    timeit.timeit(lambda: benchmark_step(first_batch=False),\n",
    "                  number=warmup_iters)\n",
    "\n",
    "    # Benchmark\n",
    "    log('Running benchmark...')\n",
    "    img_secs = []\n",
    "    for x in range(num_iters):\n",
    "        time = timeit.timeit(lambda: benchmark_step(first_batch=False),\n",
    "                             number=num_batches_per_iter)\n",
    "        img_sec = batch_size * num_batches_per_iter / time\n",
    "        log('Iter #%d: %.1f img/sec per %s' % (x, img_sec, device))\n",
    "        img_secs.append(img_sec)\n",
    "\n",
    "    # Results\n",
    "    img_sec_mean = np.mean(img_secs)\n",
    "    img_sec_conf = 1.96 * np.std(img_secs)\n",
    "    log('Img/sec per %s: %.1f +-%.1f' % (device, img_sec_mean, img_sec_conf))"
   ]
  },
  {
   "cell_type": "code",
   "execution_count": null,
   "id": "f68b0cb1",
   "metadata": {},
   "outputs": [],
   "source": []
  }
 ],
 "metadata": {
  "kernelspec": {
   "display_name": "Python 3 (ipykernel)",
   "language": "python",
   "name": "python3"
  },
  "language_info": {
   "codemirror_mode": {
    "name": "ipython",
    "version": 3
   },
   "file_extension": ".py",
   "mimetype": "text/x-python",
   "name": "python",
   "nbconvert_exporter": "python",
   "pygments_lexer": "ipython3",
   "version": "3.9.5"
  }
 },
 "nbformat": 4,
 "nbformat_minor": 5
}
